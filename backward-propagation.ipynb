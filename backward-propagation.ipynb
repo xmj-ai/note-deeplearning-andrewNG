{
  "cells": [
    {
      "cell_type": "markdown",
      "metadata": {
        "collapsed": true,
        "pycharm": {
          "name": "#%% md\n"
        }
      },
      "source": "公式推导\n前向传播\n\n$z^{[l]}\u003dW^{[l]}\\cdot a^{[l-1]}+b^{[l]}$\n\n$a^{[l]}\u003dg(z^{[l]})$\n\n向量化\n\n$z^{[l]}\u003dW^{[l]}\\cdot A^{[l-1]}+b^{[l]}$\n\n$A^{[l]}\u003dg(Z^{[l]})$\n\n反向传播\n\ninput:$a^{[l]}$ \n\noutput:$da^{[l-1]},dw^{[l]},db^{[l]}$\n\n$dz^{[l]}\u003dda^{[l]}\\cdot g^{[l]\u0027}(z^{[l]})$\n\n$dw^{[l]}\u003ddz^{[l]}\\cdot da^{[l-1]}$\n\n$db^{[l]}\u003ddz^{[l]}$\n\n$da^{[l-1]}\u003dw^{[l]T}\\cdot dz^{[l]}$\n\n$dz^{[l]}\u003dw^{[l+1]T}\\cdot dz^{[l+1]}\\cdot g^{[l]\u0027}(z^{[l]})$\n\n向量化\n\n$dZ^{[l]}\u003ddA^{[l]}\\cdot g^{[l]\u0027}(Z^{[l]})$\n\n$dW^{[l]}\u003d\\frac{1}{m}dZ^{[l]}\\cdot dA^{[l-1]T}$\n\n$dA^{[l-1]}\u003dW^{[l]T}\\cdot dZ^{[l]}$\n\n"
    }
  ],
  "metadata": {
    "language_info": {
      "codemirror_mode": {
        "name": "ipython",
        "version": 2
      },
      "file_extension": ".py",
      "mimetype": "text/x-python",
      "name": "python",
      "nbconvert_exporter": "python",
      "pygments_lexer": "ipython2",
      "version": "2.7.6"
    },
    "kernelspec": {
      "name": "python3",
      "language": "python",
      "display_name": "Python 3"
    }
  },
  "nbformat": 4,
  "nbformat_minor": 0
}